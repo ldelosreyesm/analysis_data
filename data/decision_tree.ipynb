{
 "cells": [
  {
   "cell_type": "code",
   "execution_count": 10,
   "id": "25865899-0235-449d-9fb5-8390b067c3c6",
   "metadata": {},
   "outputs": [],
   "source": [
    "import pandas as pd\n",
    "from sklearn.tree import DecisionTreeRegressor\n",
    "from sklearn.model_selection import train_test_split\n",
    "from sklearn import metrics\n",
    "from sklearn.tree import export_graphviz\n",
    "import graphviz"
   ]
  },
  {
   "cell_type": "code",
   "execution_count": 11,
   "id": "6bd387ca-0708-4dbe-9e33-bc1faa834db1",
   "metadata": {},
   "outputs": [],
   "source": [
    "dtset = pd.read_csv(\"./insurance/insurance.csv\")"
   ]
  },
  {
   "cell_type": "code",
   "execution_count": 12,
   "id": "76a03e67-73cb-4fa8-a88d-2d0f7ffd49a5",
   "metadata": {},
   "outputs": [],
   "source": [
    "#Transformar las columnas categoricas con ine hot encoding\n",
    "dtset = pd.get_dummies(dtset)"
   ]
  },
  {
   "cell_type": "code",
   "execution_count": 13,
   "id": "5a50c53a-5bcb-472f-852f-def74ce8197f",
   "metadata": {},
   "outputs": [],
   "source": [
    "#Obtener carcateristicas y variables objetivo\n",
    "X = dtset.drop('charges', axis=1)\n",
    "y = dtset['charges']"
   ]
  },
  {
   "cell_type": "code",
   "execution_count": 14,
   "id": "6743e07d-b43f-4b69-bcc8-a0d927a1ab53",
   "metadata": {},
   "outputs": [],
   "source": [
    "#Separar los datos 30% para pruebas, 70% training\n",
    "X_train, X_test, y_train, y_test = train_test_split(X, y, test_size=0.3, random_state=1)\n"
   ]
  },
  {
   "cell_type": "code",
   "execution_count": 25,
   "id": "b2bb7658-7de0-4eb3-8792-8e0258dd9e2a",
   "metadata": {},
   "outputs": [],
   "source": [
    "#creamos el objeto DecisionTreeRegressor\n",
    "clf = DecisionTreeRegressor(max_depth=3)"
   ]
  },
  {
   "cell_type": "code",
   "execution_count": 26,
   "id": "3fce4c2e-5762-4748-9429-94298a65ea6d",
   "metadata": {},
   "outputs": [],
   "source": [
    "#Ajustamos el modelo a los datos training\n",
    "clf = clf.fit(X_train,y_train)"
   ]
  },
  {
   "cell_type": "code",
   "execution_count": 27,
   "id": "2c10ce7d-fe03-4b26-8dd4-8be76f0f89b8",
   "metadata": {},
   "outputs": [],
   "source": [
    "#Generamos una prediccion con los datos test\n",
    "y_pred = clf.predict(X_test)"
   ]
  },
  {
   "cell_type": "code",
   "execution_count": 28,
   "id": "9bd8d0e8-9dba-4a5f-8f38-78124e902526",
   "metadata": {},
   "outputs": [
    {
     "name": "stdout",
     "output_type": "stream",
     "text": [
      "Exactitud: 0.8435058268122119\n"
     ]
    }
   ],
   "source": [
    "print(\"Exactitud:\",metrics.r2_score(y_test, y_pred))\n"
   ]
  },
  {
   "cell_type": "code",
   "execution_count": 29,
   "id": "4bba31b3-6146-48ce-a5f1-76a85c5daba4",
   "metadata": {},
   "outputs": [
    {
     "data": {
      "text/plain": [
       "'insurance_tree.pdf'"
      ]
     },
     "execution_count": 29,
     "metadata": {},
     "output_type": "execute_result"
    }
   ],
   "source": [
    "#Visualizamos, obtenemos la salida en PDF\n",
    "dot_data = export_graphviz(clf, out_file=None, \n",
    "                feature_names=X.columns,  \n",
    "                filled=True, rounded=True,  \n",
    "                special_characters=True)\n",
    "\n",
    "graph = graphviz.Source(dot_data)\n",
    "graph.render(\"insurance_tree\")"
   ]
  },
  {
   "cell_type": "markdown",
   "id": "04198acc-7671-4e2e-9292-300cbd1dc900",
   "metadata": {},
   "source": [
    "Basicamente lo que hace este modelo es motrar graficamente como clasifica el modelo de regresion lineal."
   ]
  },
  {
   "cell_type": "code",
   "execution_count": null,
   "id": "c1419545-f445-475c-8a3a-4974f7c01636",
   "metadata": {},
   "outputs": [],
   "source": []
  }
 ],
 "metadata": {
  "kernelspec": {
   "display_name": "Python 3 (ipykernel)",
   "language": "python",
   "name": "python3"
  },
  "language_info": {
   "codemirror_mode": {
    "name": "ipython",
    "version": 3
   },
   "file_extension": ".py",
   "mimetype": "text/x-python",
   "name": "python",
   "nbconvert_exporter": "python",
   "pygments_lexer": "ipython3",
   "version": "3.9.13"
  }
 },
 "nbformat": 4,
 "nbformat_minor": 5
}
